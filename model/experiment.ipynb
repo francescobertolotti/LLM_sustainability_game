{
 "cells": [
  {
   "cell_type": "code",
   "execution_count": 1,
   "metadata": {},
   "outputs": [],
   "source": [
    "import numpy as np\n",
    "from matplotlib import pyplot as plt\n",
    "import pandas as pd\n",
    "import warnings\n",
    "import networkx as nx\n",
    "import random\n",
    "warnings.filterwarnings(\"ignore\")\n",
    "\n",
    "from parameters import *\n",
    "from global_vars import *\n",
    "from agent import *\n",
    "from setup import *\n",
    "from go import *\n",
    "from MODEL import *\n",
    "from visualize import *\n",
    "\n",
    "plt.rcParams['font.family'] = 'serif'\n",
    "plt.rcParams['font.serif'] = ['Times New Roman'] + plt.rcParams['font.serif']"
   ]
  },
  {
   "cell_type": "code",
   "execution_count": 2,
   "metadata": {},
   "outputs": [
    {
     "name": "stdout",
     "output_type": "stream",
     "text": [
      "Sim #0 of 50\n",
      "Sim #1 of 50\n",
      "Sim #2 of 50\n",
      "Sim #3 of 50\n",
      "Sim #4 of 50\n",
      "Sim #5 of 50\n",
      "Sim #6 of 50\n",
      "Sim #7 of 50\n",
      "Sim #8 of 50\n",
      "Sim #9 of 50\n",
      "Sim #10 of 50\n",
      "Sim #11 of 50\n",
      "Sim #12 of 50\n",
      "Sim #13 of 50\n",
      "Sim #14 of 50\n",
      "Sim #15 of 50\n",
      "Sim #16 of 50\n",
      "Sim #17 of 50\n",
      "Sim #18 of 50\n",
      "Sim #19 of 50\n",
      "Sim #20 of 50\n",
      "Sim #21 of 50\n",
      "Sim #22 of 50\n",
      "     Error in sim 22: invalid syntax. Perhaps you forgot a comma? (<string>, line 1)Waiting 60 seconds before retrying...\n",
      "Sim #23 of 50\n",
      "Sim #24 of 50\n",
      "Sim #25 of 50\n",
      "Sim #26 of 50\n",
      "Sim #27 of 50\n",
      "Sim #28 of 50\n",
      "Sim #29 of 50\n",
      "Sim #30 of 50\n",
      "Sim #31 of 50\n",
      "Sim #32 of 50\n",
      "Sim #33 of 50\n",
      "Sim #34 of 50\n",
      "Sim #35 of 50\n",
      "Sim #36 of 50\n",
      "Sim #37 of 50\n",
      "Sim #38 of 50\n",
      "Sim #39 of 50\n",
      "Sim #40 of 50\n",
      "Sim #41 of 50\n",
      "Sim #42 of 50\n",
      "Sim #43 of 50\n",
      "Sim #44 of 50\n",
      "Sim #45 of 50\n",
      "Sim #46 of 50\n",
      "Sim #47 of 50\n",
      "Sim #48 of 50\n",
      "Sim #49 of 50\n",
      "Experiment completed! There were 1 errors: as always, your code is not perfect...but it works most of the time!\n"
     ]
    }
   ],
   "source": [
    "# EXPERIMENT GENERATION\n",
    "\n",
    "n_sim = 50 # number of simulations\n",
    "exp = experiment(n_sim) # experiment with n_sim is setup\n",
    "exp.run_experiment() # experiment with n_sim is run"
   ]
  },
  {
   "cell_type": "code",
   "execution_count": null,
   "metadata": {},
   "outputs": [],
   "source": []
  },
  {
   "cell_type": "code",
   "execution_count": null,
   "metadata": {},
   "outputs": [],
   "source": []
  },
  {
   "cell_type": "code",
   "execution_count": null,
   "metadata": {},
   "outputs": [],
   "source": []
  },
  {
   "cell_type": "code",
   "execution_count": null,
   "metadata": {},
   "outputs": [],
   "source": []
  },
  {
   "cell_type": "code",
   "execution_count": null,
   "metadata": {},
   "outputs": [],
   "source": []
  },
  {
   "cell_type": "code",
   "execution_count": null,
   "metadata": {},
   "outputs": [],
   "source": []
  },
  {
   "cell_type": "code",
   "execution_count": null,
   "metadata": {},
   "outputs": [],
   "source": []
  },
  {
   "cell_type": "code",
   "execution_count": null,
   "metadata": {},
   "outputs": [],
   "source": []
  },
  {
   "cell_type": "code",
   "execution_count": null,
   "metadata": {},
   "outputs": [],
   "source": []
  },
  {
   "cell_type": "code",
   "execution_count": null,
   "metadata": {},
   "outputs": [],
   "source": []
  },
  {
   "cell_type": "code",
   "execution_count": null,
   "metadata": {},
   "outputs": [],
   "source": []
  },
  {
   "cell_type": "code",
   "execution_count": null,
   "metadata": {},
   "outputs": [],
   "source": []
  },
  {
   "cell_type": "code",
   "execution_count": null,
   "metadata": {},
   "outputs": [],
   "source": []
  }
 ],
 "metadata": {
  "kernelspec": {
   "display_name": "Python 3",
   "language": "python",
   "name": "python3"
  },
  "language_info": {
   "codemirror_mode": {
    "name": "ipython",
    "version": 3
   },
   "file_extension": ".py",
   "mimetype": "text/x-python",
   "name": "python",
   "nbconvert_exporter": "python",
   "pygments_lexer": "ipython3",
   "version": "3.11.3"
  },
  "orig_nbformat": 4
 },
 "nbformat": 4,
 "nbformat_minor": 2
}
